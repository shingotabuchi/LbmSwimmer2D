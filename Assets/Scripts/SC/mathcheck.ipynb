{
 "cells": [
  {
   "cell_type": "code",
   "execution_count": 2,
   "metadata": {},
   "outputs": [
    {
     "name": "stdout",
     "output_type": "stream",
     "text": [
      "0.05956998512816026\n",
      "0.05956998512816026\n"
     ]
    }
   ],
   "source": [
    "a = 2.0/49.0\n",
    "b = 2.0/21.0\n",
    "RTc = (a * 0.0778)/(0.45724 * b)\n",
    "pc = 0.0778*RTc/b\n",
    "print(pc)\n",
    "pc = 0.45724*RTc*RTc/a\n",
    "print(pc)"
   ]
  },
  {
   "cell_type": "code",
   "execution_count": 29,
   "metadata": {},
   "outputs": [
    {
     "data": {
      "text/plain": [
       "-1.7319771054846722e-08"
      ]
     },
     "execution_count": 29,
     "metadata": {},
     "output_type": "execute_result"
    }
   ],
   "source": [
    "dense = 2.542\n",
    "epsilon = 1\n",
    "pc-((dense * RTc)/(1.0 - b * dense) - (a * dense * dense * epsilon)/(1.0 + 2.0 * b * dense - b * b * dense * dense))"
   ]
  },
  {
   "cell_type": "code",
   "execution_count": null,
   "metadata": {},
   "outputs": [],
   "source": []
  }
 ],
 "metadata": {
  "kernelspec": {
   "display_name": "Python 3",
   "language": "python",
   "name": "python3"
  },
  "language_info": {
   "codemirror_mode": {
    "name": "ipython",
    "version": 3
   },
   "file_extension": ".py",
   "mimetype": "text/x-python",
   "name": "python",
   "nbconvert_exporter": "python",
   "pygments_lexer": "ipython3",
   "version": "3.9.13"
  },
  "orig_nbformat": 4
 },
 "nbformat": 4,
 "nbformat_minor": 2
}
